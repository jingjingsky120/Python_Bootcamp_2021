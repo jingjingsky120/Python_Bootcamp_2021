{
 "cells": [
  {
   "cell_type": "markdown",
   "id": "97d28ad2",
   "metadata": {},
   "source": [
    "#### Leetcode problem 20. Valid Parentheses"
   ]
  },
  {
   "cell_type": "markdown",
   "id": "717cb49e",
   "metadata": {},
   "source": [
    "Given a string s containing just the characters '(', ')', '{', '}', '[' and ']', determine if the input string is valid.\n",
    "\n",
    "An input string is valid if:\n",
    "\n",
    "Open brackets must be closed by the same type of brackets.\n",
    "Open brackets must be closed in the correct order.\n",
    " "
   ]
  },
  {
   "cell_type": "markdown",
   "id": "ab9e4bc1",
   "metadata": {},
   "source": [
    "##### Example 1:\n",
    "\n",
    "Input: s = \"()\"\n",
    "\n",
    "Output: true\n",
    "\n",
    "\n",
    "##### Example 2:\n",
    "\n",
    "Input: s = \"()[]{}\"\n",
    "\n",
    "Output: true\n",
    "\n",
    "\n",
    "##### Example 3:\n",
    "\n",
    "Input: s = \"(]\"\n",
    "\n",
    "Output: false\n",
    "\n",
    "\n",
    "##### Example 4:\n",
    "\n",
    "Input: s = \"([)]\"\n",
    "\n",
    "Output: false\n",
    "\n",
    "\n",
    "##### Example 5:\n",
    "\n",
    "Input: s = \"{[]}\"\n",
    "\n",
    "Output: true\n",
    " "
   ]
  },
  {
   "cell_type": "code",
   "execution_count": null,
   "id": "3203fa33",
   "metadata": {},
   "outputs": [],
   "source": []
  },
  {
   "cell_type": "code",
   "execution_count": null,
   "id": "5706e3d7",
   "metadata": {},
   "outputs": [],
   "source": []
  },
  {
   "cell_type": "code",
   "execution_count": null,
   "id": "14693cf8",
   "metadata": {},
   "outputs": [],
   "source": []
  },
  {
   "cell_type": "code",
   "execution_count": 1,
   "id": "40405fec",
   "metadata": {},
   "outputs": [],
   "source": [
    "def isValid(self, s: str) -> bool:\n",
    "    double = {'(':')','[':']','{':'}'}\n",
    "    single = ['(','[','{']\n",
    "\n",
    "    result = []\n",
    "    for i in s:\n",
    "        if i in single:\n",
    "            result.append(i)\n",
    "        elif result and i == double[result[-1]]:\n",
    "            result.pop()\n",
    "        else:\n",
    "            return False \n",
    "    if not result:\n",
    "        return True"
   ]
  },
  {
   "cell_type": "code",
   "execution_count": null,
   "id": "318652e7",
   "metadata": {},
   "outputs": [],
   "source": []
  },
  {
   "cell_type": "code",
   "execution_count": null,
   "id": "8085bd8d",
   "metadata": {},
   "outputs": [],
   "source": []
  },
  {
   "cell_type": "markdown",
   "id": "b2a32c49",
   "metadata": {},
   "source": [
    "#### Leetcode problem 953. Verifying an Alien Dictionary"
   ]
  },
  {
   "cell_type": "markdown",
   "id": "344c9a32",
   "metadata": {},
   "source": [
    "In an alien language, surprisingly, they also use English lowercase letters, but possibly in a different order. The order of the alphabet is some permutation of lowercase letters.\n",
    "\n",
    "Given a sequence of words written in the alien language, and the order of the alphabet, return true if and only if the given words are sorted lexicographically in this alien language.\n",
    "\n"
   ]
  },
  {
   "cell_type": "markdown",
   "id": "817e6281",
   "metadata": {},
   "source": [
    "#### Example 1:\n",
    "\n",
    "Input: words = [\"hello\",\"leetcode\"], order = \"hlabcdefgijkmnopqrstuvwxyz\"\n",
    "\n",
    "Output: true\n",
    "\n",
    "Explanation: As 'h' comes before 'l' in this language, then the sequence is sorted.\n",
    "\n",
    "#### Example 2:\n",
    "\n",
    "Input: words = [\"word\",\"world\",\"row\"], order = \"worldabcefghijkmnpqstuvxyz\"\n",
    "\n",
    "Output: false\n",
    "\n",
    "Explanation: As 'd' comes after 'l' in this language, then words[0] > words[1], hence the sequence is unsorted.\n",
    "\n",
    "#### Example 3:\n",
    "\n",
    "Input: words = [\"apple\",\"app\"], order = \"abcdefghijklmnopqrstuvwxyz\"\n",
    "\n",
    "Output: false\n",
    "\n",
    "Explanation: The first three characters \"app\" match, and the second string is shorter (in size.) According to lexicographical rules \"apple\" > \"app\", because 'l' > '∅', where '∅' is defined as the blank character which is less than any other character (More info).\n"
   ]
  },
  {
   "cell_type": "code",
   "execution_count": null,
   "id": "236edce6",
   "metadata": {},
   "outputs": [],
   "source": []
  },
  {
   "cell_type": "code",
   "execution_count": null,
   "id": "b4420432",
   "metadata": {},
   "outputs": [],
   "source": []
  },
  {
   "cell_type": "code",
   "execution_count": null,
   "id": "e40e433d",
   "metadata": {},
   "outputs": [],
   "source": []
  },
  {
   "cell_type": "code",
   "execution_count": 2,
   "id": "5093694b",
   "metadata": {},
   "outputs": [],
   "source": [
    "def isAlienSorted(words, order):\n",
    "    hash_tbl = {}\n",
    "    for i,c in enumerate(order):\n",
    "        hash_tbl[c] = i\n",
    "\n",
    "    for i in range(len(words)-1):\n",
    "        for j in range(len(words[i])):\n",
    "\n",
    "            if j >= len(words[i+1]): return False\n",
    "            print(hash_tbl[words[i][j]])\n",
    "            print(hash_tbl[words[i+1][j]])\n",
    "            if words[i][j] == words[i+1][j]:\n",
    "                continue\n",
    "            if words[i][j] != words[i+1][j]:\n",
    "                if hash_tbl[words[i][j]] > hash_tbl[words[i+1][j]]:\n",
    "                    return False\n",
    "                break\n",
    "    return True"
   ]
  },
  {
   "cell_type": "code",
   "execution_count": 3,
   "id": "844eba6f",
   "metadata": {},
   "outputs": [
    {
     "name": "stdout",
     "output_type": "stream",
     "text": [
      "0\n",
      "1\n"
     ]
    },
    {
     "data": {
      "text/plain": [
       "True"
      ]
     },
     "execution_count": 3,
     "metadata": {},
     "output_type": "execute_result"
    }
   ],
   "source": [
    "isAlienSorted([\"hello\",\"leetcode\"],\"hlabcdefgijkmnopqrstuvwxyz\")"
   ]
  },
  {
   "cell_type": "code",
   "execution_count": 4,
   "id": "e497bf10",
   "metadata": {},
   "outputs": [
    {
     "name": "stdout",
     "output_type": "stream",
     "text": [
      "0\n",
      "0\n",
      "1\n",
      "1\n",
      "2\n",
      "2\n",
      "4\n",
      "3\n"
     ]
    },
    {
     "data": {
      "text/plain": [
       "False"
      ]
     },
     "execution_count": 4,
     "metadata": {},
     "output_type": "execute_result"
    }
   ],
   "source": [
    "isAlienSorted([\"word\",\"world\",\"row\"],\"worldabcefghijkmnpqstuvxyz\")"
   ]
  },
  {
   "cell_type": "code",
   "execution_count": null,
   "id": "2827a35d",
   "metadata": {},
   "outputs": [],
   "source": []
  }
 ],
 "metadata": {
  "kernelspec": {
   "display_name": "Python 3",
   "language": "python",
   "name": "python3"
  },
  "language_info": {
   "codemirror_mode": {
    "name": "ipython",
    "version": 3
   },
   "file_extension": ".py",
   "mimetype": "text/x-python",
   "name": "python",
   "nbconvert_exporter": "python",
   "pygments_lexer": "ipython3",
   "version": "3.8.8"
  }
 },
 "nbformat": 4,
 "nbformat_minor": 5
}
